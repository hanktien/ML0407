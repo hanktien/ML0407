{
 "cells": [
  {
   "cell_type": "code",
   "execution_count": null,
   "metadata": {},
   "outputs": [],
   "source": [
    "# 標題一\n",
    "## 標題二\n",
    "![圖:xxx](https://i.imgur.com/tLNEk88.jpg)\n",
    ".[請點我](https://www.google.com/)\n",
    "\n",
    "身高|體重|三圍\n",
    "---|---|---\n",
    "joe|123|23\n",
    "bob|190|13\n",
    "\n",
    ".[請點我](https://en.wikibooks.org/wiki/LaTeX/Mathematics)\n",
    "\n",
    "$\n",
    "\n",
    "$"
   ]
  },
  {
   "cell_type": "code",
   "execution_count": null,
   "metadata": {},
   "outputs": [],
   "source": [
    "# "
   ]
  },
  {
   "cell_type": "markdown",
   "metadata": {},
   "source": [
    "# "
   ]
  },
  {
   "cell_type": "code",
   "execution_count": null,
   "metadata": {},
   "outputs": [],
   "source": []
  }
 ],
 "metadata": {
  "kernelspec": {
   "display_name": "Python 3",
   "language": "python",
   "name": "python3"
  },
  "language_info": {
   "codemirror_mode": {
    "name": "ipython",
    "version": 3
   },
   "file_extension": ".py",
   "mimetype": "text/x-python",
   "name": "python",
   "nbconvert_exporter": "python",
   "pygments_lexer": "ipython3",
   "version": "3.7.6"
  }
 },
 "nbformat": 4,
 "nbformat_minor": 1
}
